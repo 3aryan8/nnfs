{
 "cells": [
  {
   "cell_type": "markdown",
   "id": "220ecb42",
   "metadata": {},
   "source": [
    "## Combining things into an object "
   ]
  },
  {
   "cell_type": "markdown",
   "id": "da709d19",
   "metadata": {},
   "source": [
    "### Adding Another Layer "
   ]
  },
  {
   "cell_type": "code",
   "execution_count": 56,
   "id": "1e2c4225",
   "metadata": {},
   "outputs": [],
   "source": [
    "inputs = [[1 , 2, 3, 2.5 ],\n",
    "         [2.0 , 5.0 , -1.0 , 2.0 ],\n",
    "         [-1.5 , 2.7 , 3.3 , -0.8]] \n",
    "\n",
    "\n",
    "# Layer 1 : Having 3 neurons \n",
    "\n",
    "weights1 = [[0.2 , 0.8 , -0.5 , 1.0],\n",
    "           [0.5 , -0.91 , 0.26 , -0.5],\n",
    "           [-0.26 , -0.27 , 0.17 , 0.87]]\n",
    "\n",
    "biases1 = [ 2 , 3, 0.5 ]\n",
    "\n",
    "\n",
    "# Layer 2 : Having 3 neurons\n",
    "\n",
    "weights2 = [[0.1 , -0.14 , 0.5],\n",
    "           [-0.5 , 0.12 , -0.33],\n",
    "           [-0.44 , 0.73 , -0.13]]\n",
    "\n",
    "biases2 = [ -1 , 2, -0.5 ]\n",
    "\n"
   ]
  },
  {
   "cell_type": "code",
   "execution_count": 57,
   "id": "fdb2c339",
   "metadata": {},
   "outputs": [
    {
     "name": "stdout",
     "output_type": "stream",
     "text": [
      "Layer 1 output : \n",
      " [[ 4.8    1.21   2.385]\n",
      " [ 8.9   -1.81   0.2  ]\n",
      " [ 1.41   1.051  0.026]]\n",
      "Layer 2 output : \n",
      " [[ 0.5031  -1.04185 -2.03875]\n",
      " [ 0.2434  -2.7332  -5.7633 ]\n",
      " [-0.99314  1.41254 -0.35655]]\n"
     ]
    }
   ],
   "source": [
    "import numpy as np\n",
    "\n",
    "layer1_output = np.dot(inputs , np.transpose(weights1)) + biases1\n",
    "print( \"Layer 1 output : \\n\",layer1_output)\n",
    "\n",
    "\n",
    "## The output of previous layer acts as input for the next layer , \n",
    "##  This continues till output\n",
    "\n",
    "layer2_output = np.dot ( layer1_output , np.transpose( weights2 )) + biases2\n",
    "\n",
    "print( \"Layer 2 output : \\n\",layer2_output)"
   ]
  },
  {
   "cell_type": "markdown",
   "id": "8d8bf593",
   "metadata": {},
   "source": [
    "### Creating Dense Layer Object "
   ]
  },
  {
   "cell_type": "code",
   "execution_count": 68,
   "id": "5e5e1da4",
   "metadata": {},
   "outputs": [],
   "source": [
    "from re import L\n",
    "import numpy as np \n",
    "np.random.seed (0) \n",
    "\n",
    "class Layer_Dense :\n",
    "\n",
    "    def __init__(self , input , neurons ):\n",
    "        \n",
    "        self.input = np.array ( input )\n",
    "\n",
    "        # This line checks if the input contains one sameple, or more\n",
    "        ## and then finds out the correct dimensions of inputs \n",
    "        \n",
    "        features = self.input.shape[0] if len( self.input.shape) == 1 else self.input.shape[1]\n",
    "\n",
    "        # generally dimensions of weights matrix = neurons * features, \n",
    "        # but we have to take transpose anyways, so we directly create neurons in dimension \n",
    "        self.weights = .01 * np.random.randn(  features , neurons )\n",
    "        self.biases = .01 * np.zeros ( (1 , neurons) )\n",
    "\n",
    "    def forward ( self ) :\n",
    "\n",
    "        self.output = np.dot ( self.input , self.weights ) + self.biases \n",
    "         "
   ]
  },
  {
   "cell_type": "code",
   "execution_count": null,
   "id": "0994c4cb",
   "metadata": {},
   "outputs": [
    {
     "name": "stdout",
     "output_type": "stream",
     "text": [
      "Layer1 Output : \n",
      " [[ 0.01075813  0.10398352  0.02446241  0.0318215   0.01885105]\n",
      " [-0.0083498   0.07084641  0.00029336  0.04470153  0.03636054]\n",
      " [-0.05076324  0.05568842  0.0079878  -0.03488957  0.00455304]] \n",
      " \n",
      "Layer2 Output :  \n",
      " [[ 0.00148296 -0.00083976]\n",
      " [ 0.00141003 -0.00013405]\n",
      " [ 0.0020125  -0.00072906]] \n"
     ]
    }
   ],
   "source": [
    "# Testing \n",
    "X = [[1 , 2, 3, 2.5 ],\n",
    "     [2.0 , 5.0 , -1.0 , 2.0 ],\n",
    "     [-1.5 , 2.7 , 3.3 , -0.8]] \n",
    "\n",
    "\n",
    "## Output from 1 layer acts as input for next layer, \n",
    "layer1 = Layer_Dense( X , 5 )\n",
    "layer1.forward()\n",
    "layer2 = Layer_Dense( layer1.output, 2 ) \n",
    "layer2.forward()\n",
    "\n",
    "print( f\"Layer1 Output : \\n {layer1.output} \\n\",\n",
    "      f\"\\nLayer2 Output :  \\n {layer2.output} \")\n"
   ]
  },
  {
   "cell_type": "code",
   "execution_count": 64,
   "id": "7e60d2b1",
   "metadata": {},
   "outputs": [
    {
     "name": "stdout",
     "output_type": "stream",
     "text": [
      "Layer1 Output : \n",
      " [-0.03060637 -0.04634218 -0.01188345 -0.0989637  -0.00091523] \n",
      " \n",
      "Layer2 Output :  \n",
      " [6.56411659e-05 1.18648432e-03] \n"
     ]
    }
   ],
   "source": [
    "# Example 2 (this time only with 1 input )\n",
    "X2 = [1 , 2, 3, 2.5 ]\n",
    "\n",
    "## Output from 1 layer acts as input for next layer, \n",
    "layer1 = Layer_Dense( X2 , 5 )\n",
    "layer1.forward()\n",
    "layer2 = Layer_Dense( layer1.output, 2 ) \n",
    "layer2.forward()\n",
    "\n",
    "print( f\"Layer1 Output : \\n {layer1.output} \\n\",\n",
    "      f\"\\nLayer2 Output :  \\n {layer2.output} \")\n",
    "\n"
   ]
  },
  {
   "cell_type": "code",
   "execution_count": 60,
   "id": "02cbb427",
   "metadata": {},
   "outputs": [
    {
     "data": {
      "text/plain": [
       "array([[-0.03773199, -0.04553298, -0.01658111, -0.00937869, -0.03013325],\n",
       "       [ 0.01264044,  0.05822206,  0.07497579, -0.11076798, -0.02123166],\n",
       "       [-0.02920044, -0.00929282, -0.0167458 ,  0.09654089, -0.01806009]])"
      ]
     },
     "execution_count": 60,
     "metadata": {},
     "output_type": "execute_result"
    }
   ],
   "source": [
    "# Testing \n",
    "X = [[1 , 2, 3, 2.5 ],\n",
    "     [2.0 , 5.0 , -1.0 , 2.0 ],\n",
    "     [-1.5 , 2.7 , 3.3 , -0.8]] \n",
    "\n",
    "array = np.array( X )\n",
    "\n",
    "features = array.shape[0] if len( array.shape) == 1 else array.shape[1]\n",
    "\n",
    "weights = .01 * np.random.randn(  features , 5 )\n",
    "biases = .01 * np.zeros (  5 )\n",
    "\n",
    "output = np.dot ( array , weights ) + biases\n",
    "\n",
    "output"
   ]
  },
  {
   "cell_type": "code",
   "execution_count": null,
   "id": "d431797d",
   "metadata": {},
   "outputs": [
    {
     "data": {
      "text/plain": [
       "(1, 5)"
      ]
     },
     "execution_count": 67,
     "metadata": {},
     "output_type": "execute_result"
    }
   ],
   "source": [
    "biases = .01 * np.zeros ( (1, 5) )\n",
    "biases .shape\n",
    "\n"
   ]
  },
  {
   "cell_type": "code",
   "execution_count": null,
   "id": "b380b5c3",
   "metadata": {},
   "outputs": [],
   "source": []
  },
  {
   "cell_type": "code",
   "execution_count": null,
   "id": "acc9901e",
   "metadata": {},
   "outputs": [],
   "source": []
  }
 ],
 "metadata": {
  "kernelspec": {
   "display_name": "Python 3",
   "language": "python",
   "name": "python3"
  },
  "language_info": {
   "codemirror_mode": {
    "name": "ipython",
    "version": 3
   },
   "file_extension": ".py",
   "mimetype": "text/x-python",
   "name": "python",
   "nbconvert_exporter": "python",
   "pygments_lexer": "ipython3",
   "version": "3.10.18"
  }
 },
 "nbformat": 4,
 "nbformat_minor": 5
}
